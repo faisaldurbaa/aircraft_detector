{
 "cells": [
  {
   "cell_type": "code",
   "execution_count": null,
   "metadata": {
    "_cell_guid": "b1076dfc-b9ad-4769-8c92-a6c4dae69d19",
    "_uuid": "8f2839f25d086af736a60e9eeb907d3b93b6e0e5",
    "trusted": true
   },
   "outputs": [],
   "source": [
    "# --- Step 1: Install Ultralytics ---\n",
    "%pip install ultralytics > /dev/null 2>&1\n",
    "print(\"--- Ultralytics installed ---\")\n",
    "\n",
    "import os\n",
    "import shutil\n",
    "import yaml\n",
    "from ultralytics import YOLO\n",
    "\n",
    "# --- Step 2: Create the CORRECT data.yaml --- MAKE SURE PATHS ARE CORRECT\n",
    "true_names_path = '/kaggle/input/military-aircraft-detection-dataset-yolo-format/military/aircraft_names.yaml'\n",
    "with open(true_names_path, 'r') as file:\n",
    "    correct_class_names = yaml.safe_load(file)['names']\n",
    "data_yaml_content = {\n",
    "    'train': '/kaggle/input/military-aircraft-detection-dataset-yolo-format/military/images/aircraft_train',\n",
    "    'val': '/kaggle/input/military-aircraft-detection-dataset-yolo-format/military/images/aircraft_val',\n",
    "    'nc': len(correct_class_names),\n",
    "    'names': correct_class_names\n",
    "}\n",
    "with open('data.yaml', 'w') as outfile:\n",
    "    yaml.dump(data_yaml_content, outfile, default_flow_style=False)\n",
    "print(\"--- CORRECT data.yaml created ---\")\n",
    "\n",
    "\n",
    "# --- Step 3: Load the BEST Hyperparameters ---\n",
    "hyp_path = '/kaggle/input/hyperparameters/best_hyperparameters.yaml' # from tuning session\n",
    "with open(hyp_path, 'r') as f:\n",
    "    best_params = yaml.safe_load(f)\n",
    "print(f\"--- Best hyperparameters loaded from {hyp_path} ---\")\n",
    "\n",
    "\n",
    "# --- Step 4: Define the Protection Callback ---\n",
    "persistent_model_dir = \"/kaggle/working/persistent_models/\"\n",
    "os.makedirs(persistent_model_dir, exist_ok=True)\n",
    "def save_checkpoint_callback(trainer):\n",
    "    last_pt_path, best_pt_path = trainer.last, trainer.best\n",
    "    if os.path.exists(last_pt_path): shutil.copy(last_pt_path, os.path.join(persistent_model_dir, \"last.pt\"))\n",
    "    if os.path.exists(best_pt_path): shutil.copy(best_pt_path, os.path.join(persistent_model_dir, \"best.pt\"))\n",
    "print(\"--- Checkpoint callback defined ---\")\n",
    "\n",
    "\n",
    "# --- Step 5: Initialize Model and Attach Callback ---\n",
    "model = YOLO('yolov8m.pt') # fresh model\n",
    "model.add_callback(\"on_model_save\", save_checkpoint_callback)\n",
    "\n",
    "\n",
    "# --- Step 6: Start a Training Run ---\n",
    "print(\"\\n--- Starting training ---\")\n",
    "results = model.train(\n",
    "    data='data.yaml',\n",
    "    epochs=35, # make sure it doesn't take more than 12 hours\n",
    "    imgsz=800,\n",
    "    patience=5,\n",
    "    project='aircraft_detection_final',\n",
    "    name='correct_run_yolov8m_optimized',\n",
    "    batch=-1,\n",
    "    workers=4, # set accordingly with available CPU cores\n",
    "    optimizer='SGD',\n",
    "    **best_params\n",
    ")\n",
    "\n",
    "print(\"\\n--- Correct training complete! ---\")"
   ]
  }
 ],
 "metadata": {
  "kaggle": {
   "accelerator": "gpu",
   "dataSources": [
    {
     "datasetId": 5847009,
     "sourceId": 9587958,
     "sourceType": "datasetVersion"
    },
    {
     "datasetId": 8016060,
     "sourceId": 12684250,
     "sourceType": "datasetVersion"
    }
   ],
   "dockerImageVersionId": 31090,
   "isGpuEnabled": true,
   "isInternetEnabled": true,
   "language": "python",
   "sourceType": "notebook"
  },
  "kernelspec": {
   "display_name": "Python 3",
   "language": "python",
   "name": "python3"
  },
  "language_info": {
   "codemirror_mode": {
    "name": "ipython",
    "version": 3
   },
   "file_extension": ".py",
   "mimetype": "text/x-python",
   "name": "python",
   "nbconvert_exporter": "python",
   "pygments_lexer": "ipython3",
   "version": "3.6.4"
  }
 },
 "nbformat": 4,
 "nbformat_minor": 4
}
